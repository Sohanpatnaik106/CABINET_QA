{
 "cells": [
  {
   "cell_type": "code",
   "execution_count": null,
   "metadata": {},
   "outputs": [],
   "source": [
    "import os\n",
    "os.chdir(\"../\")"
   ]
  },
  {
   "cell_type": "markdown",
   "metadata": {},
   "source": [
    "# Overlap between train set of totto and test set of wikitq"
   ]
  },
  {
   "cell_type": "code",
   "execution_count": null,
   "metadata": {},
   "outputs": [],
   "source": [
    "from tqdm import tqdm\n",
    "from joblib import Parallel, delayed\n",
    "import copy"
   ]
  },
  {
   "cell_type": "code",
   "execution_count": null,
   "metadata": {},
   "outputs": [],
   "source": [
    "from datasets import load_dataset"
   ]
  },
  {
   "cell_type": "code",
   "execution_count": null,
   "metadata": {},
   "outputs": [],
   "source": [
    "totto_dataset = load_dataset(\"GEM/totto\")[\"train\"]"
   ]
  },
  {
   "cell_type": "code",
   "execution_count": null,
   "metadata": {},
   "outputs": [],
   "source": [
    "wikitq_dataset = load_dataset(\"wikitablequestions\")[\"test\"]"
   ]
  },
  {
   "cell_type": "code",
   "execution_count": null,
   "metadata": {},
   "outputs": [],
   "source": [
    "totto_tables = []\n",
    "wikitq_tables = []"
   ]
  },
  {
   "cell_type": "code",
   "execution_count": null,
   "metadata": {},
   "outputs": [],
   "source": [
    "def _add_adjusted_col_offsets(table):\n",
    "    \"\"\"Add adjusted column offsets to take into account multi-column cells.\"\"\"\n",
    "    adjusted_table = []\n",
    "    for row in table:\n",
    "        real_col_index = 0\n",
    "        adjusted_row = []\n",
    "        for cell in row:\n",
    "            adjusted_cell = copy.deepcopy(cell)\n",
    "            adjusted_cell[\"adjusted_col_start\"] = real_col_index\n",
    "            adjusted_cell[\"adjusted_col_end\"] = (\n",
    "                adjusted_cell[\"adjusted_col_start\"] + adjusted_cell[\"column_span\"]\n",
    "            )\n",
    "            real_col_index += adjusted_cell[\"column_span\"]\n",
    "            adjusted_row.append(adjusted_cell)\n",
    "        adjusted_table.append(adjusted_row)\n",
    "    return adjusted_table\n",
    "\n",
    "\n",
    "def _get_heuristic_col_headers(adjusted_table, row_index, col_index):\n",
    "    \"\"\"Heuristic to find column headers.\"\"\"\n",
    "    adjusted_cell = adjusted_table[row_index][col_index]\n",
    "    adjusted_col_start = adjusted_cell[\"adjusted_col_start\"]\n",
    "    adjusted_col_end = adjusted_cell[\"adjusted_col_end\"]\n",
    "    col_headers = []\n",
    "    for r in range(0, row_index):\n",
    "        row = adjusted_table[r]\n",
    "        for cell in row:\n",
    "            if (\n",
    "                cell[\"adjusted_col_start\"] < adjusted_col_end\n",
    "                and cell[\"adjusted_col_end\"] > adjusted_col_start\n",
    "            ):\n",
    "                if cell[\"is_header\"]:\n",
    "                    col_headers.append(cell)\n",
    "\n",
    "    return col_headers\n",
    "\n",
    "\n",
    "def get_totto_full_table(table, cell_indices, table_page_title = None, table_section_title = None):\n",
    "\n",
    "    \"\"\"Verbalize full table and return a string.\"\"\"\n",
    "    table_str = \"Start of a new table with repetition of column names in between for your reference\\n\"\n",
    "    if table_page_title:\n",
    "        table_str += \"<page_title> \" + table_page_title + \" </page_title> \"\n",
    "    if table_section_title:\n",
    "        table_str += \"<section_title> \" + table_section_title + \" </section_title> \"\n",
    "\n",
    "    adjusted_table = _add_adjusted_col_offsets(table)\n",
    "\n",
    "    col_headers = []\n",
    "    for r_index, row in enumerate(table):\n",
    "        row_str = \"<row> \"\n",
    "        for c_index, col in enumerate(row):\n",
    "            col_header = _get_heuristic_col_headers(adjusted_table, r_index, c_index)\n",
    "            \n",
    "            if r_index == 1:\n",
    "                for ch in col_header:\n",
    "                    if ch[\"value\"] not in col_headers:\n",
    "                        col_headers.append(ch[\"value\"])\n",
    "\n",
    "\n",
    "    highlighted_cells = []\n",
    "    table_dict = {\"header\": col_headers, \"rows\": []}\n",
    "    for r_index, row in enumerate(table):\n",
    "        \n",
    "        if r_index == 0:\n",
    "            continue\n",
    "\n",
    "        row_list = []\n",
    "        for c_index, col in enumerate(row):\n",
    "            \n",
    "            # Select the highlighted cell\n",
    "            if [r_index, c_index] in cell_indices:\n",
    "                highlighted_cells.append(col[\"value\"])\n",
    "\n",
    "            # The value of the cell.\n",
    "            row_list.append(col[\"value\"])\n",
    "\n",
    "\n",
    "        table_dict[\"rows\"].append(row_list)\n",
    "\n",
    "    return table_dict, highlighted_cells"
   ]
  },
  {
   "cell_type": "code",
   "execution_count": null,
   "metadata": {},
   "outputs": [],
   "source": [
    "processed_data = Parallel(n_jobs = -1)(\n",
    "        delayed(get_totto_full_table)(data[\"table\"], data[\"highlighted_cells\"]) for i, data in tqdm(enumerate(totto_dataset), position = 0, leave = True, total = len(totto_dataset))\n",
    "    )"
   ]
  },
  {
   "cell_type": "code",
   "execution_count": null,
   "metadata": {},
   "outputs": [],
   "source": [
    "len(processed_data)"
   ]
  },
  {
   "cell_type": "code",
   "execution_count": null,
   "metadata": {},
   "outputs": [],
   "source": [
    "totto_tables = []"
   ]
  },
  {
   "cell_type": "code",
   "execution_count": null,
   "metadata": {},
   "outputs": [],
   "source": [
    "for i in tqdm(range(len(processed_data)), position = 0, leave = True, total = len(processed_data)):\n",
    "    \n",
    "    table_column_names = processed_data[i][0][\"header\"]\n",
    "    table_column_names = [x.lower() for x in table_column_names]\n",
    "    table_content_values = processed_data[i][0][\"rows\"]\n",
    "\n",
    "    table = \"[HEADER] \" + \" | \".join(table_column_names)\n",
    "    for row_id, row in enumerate(table_content_values):\n",
    "        row = [x.lower() for x in row]\n",
    "        table += f\" [ROW] {row_id}: \" + \" | \".join(row)\n",
    "\n",
    "    totto_tables.append(table)"
   ]
  },
  {
   "cell_type": "code",
   "execution_count": null,
   "metadata": {},
   "outputs": [],
   "source": [
    "wikitq_tables = []"
   ]
  },
  {
   "cell_type": "code",
   "execution_count": null,
   "metadata": {},
   "outputs": [],
   "source": [
    "for i in tqdm(range(len(wikitq_dataset)), position = 0, leave = True, total = len(wikitq_dataset)):\n",
    "    table_column_names = wikitq_dataset[i][\"table\"][\"header\"]\n",
    "    table_column_names = [x.lower() for x in table_column_names]\n",
    "    table_content_values = wikitq_dataset[i][\"table\"][\"rows\"]\n",
    "\n",
    "    table = \"[HEADER] \" + \" | \".join(table_column_names)\n",
    "    for row_id, row in enumerate(table_content_values):\n",
    "        row = [x.lower() for x in row]\n",
    "        table += f\" [ROW] {row_id}: \" + \" | \".join(row)\n",
    "\n",
    "    wikitq_tables.append(table)"
   ]
  },
  {
   "cell_type": "code",
   "execution_count": null,
   "metadata": {},
   "outputs": [],
   "source": [
    "overlap_tables = []"
   ]
  },
  {
   "cell_type": "code",
   "execution_count": null,
   "metadata": {},
   "outputs": [],
   "source": [
    "for table in tqdm(wikitq_tables, position = 0, leave = True, total = len(wikitq_tables)):\n",
    "    if table in totto_tables:\n",
    "        overlap_tables.append(table)"
   ]
  },
  {
   "cell_type": "code",
   "execution_count": null,
   "metadata": {},
   "outputs": [],
   "source": [
    "len(overlap_tables)"
   ]
  },
  {
   "cell_type": "code",
   "execution_count": null,
   "metadata": {},
   "outputs": [],
   "source": []
  }
 ],
 "metadata": {
  "kernelspec": {
   "display_name": "tabllm",
   "language": "python",
   "name": "python3"
  },
  "language_info": {
   "codemirror_mode": {
    "name": "ipython",
    "version": 3
   },
   "file_extension": ".py",
   "mimetype": "text/x-python",
   "name": "python",
   "nbconvert_exporter": "python",
   "pygments_lexer": "ipython3",
   "version": "3.9.16"
  },
  "orig_nbformat": 4
 },
 "nbformat": 4,
 "nbformat_minor": 2
}
