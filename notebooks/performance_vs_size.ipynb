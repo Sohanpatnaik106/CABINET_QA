{
 "cells": [
  {
   "cell_type": "code",
   "execution_count": null,
   "metadata": {},
   "outputs": [],
   "source": [
    "import os\n",
    "os.chdir(\"../\")"
   ]
  },
  {
   "cell_type": "code",
   "execution_count": null,
   "metadata": {},
   "outputs": [],
   "source": [
    "from datasets import load_dataset\n",
    "from utils import process_config\n",
    "from data import WikiTQDataset\n",
    "from src import HighlightedCluBartModelForGenerativeQuestionAnswering\n",
    "import torch\n",
    "import torch.nn as nn\n",
    "import pandas as pd\n",
    "import numpy as np\n",
    "import matplotlib.pyplot as plt\n",
    "import json"
   ]
  },
  {
   "cell_type": "code",
   "execution_count": null,
   "metadata": {},
   "outputs": [],
   "source": [
    "with open(\"configs/wiki_tq/tapex.json\", \"rb\") as f:\n",
    "    config = json.load(f)\n",
    "\n",
    "config = process_config(config)"
   ]
  },
  {
   "cell_type": "code",
   "execution_count": null,
   "metadata": {},
   "outputs": [],
   "source": [
    "dataset = load_dataset(\"wikitablequestions\")"
   ]
  },
  {
   "cell_type": "code",
   "execution_count": null,
   "metadata": {},
   "outputs": [],
   "source": [
    "test_dataset = WikiTQDataset(dataset = dataset, config = config, data_type = \"test\")"
   ]
  },
  {
   "cell_type": "code",
   "execution_count": null,
   "metadata": {},
   "outputs": [],
   "source": [
    "num_rows_list = [len(t) for t in test_dataset.table]\n",
    "num_columns_list = [len(t.columns) for t in test_dataset.table]"
   ]
  },
  {
   "cell_type": "code",
   "execution_count": null,
   "metadata": {},
   "outputs": [],
   "source": [
    "np.unique(num_rows_list)"
   ]
  },
  {
   "cell_type": "code",
   "execution_count": null,
   "metadata": {},
   "outputs": [],
   "source": [
    "np.unique(num_columns_list)"
   ]
  },
  {
   "cell_type": "code",
   "execution_count": null,
   "metadata": {},
   "outputs": [],
   "source": [
    "num_cells_list = [num_rows_list[i] * num_columns_list[i] for i in range(len(num_columns_list))]"
   ]
  },
  {
   "cell_type": "code",
   "execution_count": null,
   "metadata": {},
   "outputs": [],
   "source": [
    "np.unique(num_cells_list)"
   ]
  },
  {
   "cell_type": "code",
   "execution_count": null,
   "metadata": {},
   "outputs": [],
   "source": [
    "count_dict = {100: 0, 250: 0, 500: 0, 750: 0}"
   ]
  },
  {
   "cell_type": "code",
   "execution_count": null,
   "metadata": {},
   "outputs": [],
   "source": [
    "for x in num_cells_list:\n",
    "    if x <= 100:\n",
    "        count_dict[100] += 1\n",
    "    elif x > 100 and x <= 250:\n",
    "        count_dict[250] += 1\n",
    "    elif x > 250 and x <= 500:\n",
    "        count_dict[500] += 1\n",
    "    else:\n",
    "        count_dict[750] += 1"
   ]
  },
  {
   "cell_type": "code",
   "execution_count": null,
   "metadata": {},
   "outputs": [],
   "source": [
    "count_dict"
   ]
  },
  {
   "cell_type": "code",
   "execution_count": null,
   "metadata": {},
   "outputs": [],
   "source": [
    "0.627 * 4334\n"
   ]
  },
  {
   "cell_type": "code",
   "execution_count": null,
   "metadata": {},
   "outputs": [],
   "source": [
    "0.627 * 2431"
   ]
  },
  {
   "cell_type": "code",
   "execution_count": null,
   "metadata": {},
   "outputs": [],
   "source": [
    "1666 / 2431"
   ]
  },
  {
   "cell_type": "code",
   "execution_count": null,
   "metadata": {},
   "outputs": [],
   "source": [
    "1796 / 2431"
   ]
  },
  {
   "cell_type": "code",
   "execution_count": null,
   "metadata": {},
   "outputs": [],
   "source": [
    "0.627 * 1434"
   ]
  },
  {
   "cell_type": "code",
   "execution_count": null,
   "metadata": {},
   "outputs": [],
   "source": [
    "916 / 1434"
   ]
  },
  {
   "cell_type": "code",
   "execution_count": null,
   "metadata": {},
   "outputs": [],
   "source": [
    "2717 - (1736 + 916 + 51)"
   ]
  },
  {
   "cell_type": "code",
   "execution_count": null,
   "metadata": {},
   "outputs": [],
   "source": [
    "0.627 * 308"
   ]
  },
  {
   "cell_type": "code",
   "execution_count": null,
   "metadata": {},
   "outputs": [],
   "source": [
    "92 / 308"
   ]
  },
  {
   "cell_type": "code",
   "execution_count": null,
   "metadata": {},
   "outputs": [],
   "source": [
    "0.627 * 171"
   ]
  },
  {
   "cell_type": "code",
   "execution_count": null,
   "metadata": {},
   "outputs": [],
   "source": [
    "43 / 171"
   ]
  },
  {
   "cell_type": "code",
   "execution_count": null,
   "metadata": {},
   "outputs": [],
   "source": [
    "0.692 * 1434"
   ]
  },
  {
   "cell_type": "code",
   "execution_count": null,
   "metadata": {},
   "outputs": [],
   "source": [
    "1027 / 1434"
   ]
  },
  {
   "cell_type": "code",
   "execution_count": null,
   "metadata": {},
   "outputs": [],
   "source": [
    "0.692 * 4334"
   ]
  },
  {
   "cell_type": "code",
   "execution_count": null,
   "metadata": {},
   "outputs": [],
   "source": [
    "2999 - (1027 + 1796)"
   ]
  },
  {
   "cell_type": "code",
   "execution_count": null,
   "metadata": {},
   "outputs": [],
   "source": [
    "117 / 308"
   ]
  },
  {
   "cell_type": "code",
   "execution_count": null,
   "metadata": {},
   "outputs": [],
   "source": [
    "59 / 171"
   ]
  },
  {
   "cell_type": "code",
   "execution_count": null,
   "metadata": {},
   "outputs": [],
   "source": [
    "import numpy as np\n",
    "import matplotlib.pyplot as plt\n",
    "\n",
    "# Define the categories (perturbation types)\n",
    "categories = ['1-100', '100-250', '250-500', '500+']\n",
    "\n",
    "# Define the data for the baseline and novel proposed models for each category\n",
    "\n",
    "# baseline_performance = 87.911\n",
    "# our_method_performance = 89.180\n",
    "\n",
    "# baseline_perturbed_performance = np.array([71.410, ])\n",
    "# our_method_perturbed_performance = np.array([73.879, ])\n",
    "\n",
    "# baseline_data = list(baseline_performance - baseline_perturbed_performance)\n",
    "# proposed_data = list(our_method_performance - our_method_perturbed_performance)\n",
    "\n",
    "baseline_data = [68.531, 63.877, 29.870, 25.146]\n",
    "proposed_data = [73.879, 71.618, 37.987, 34.503]\n",
    "\n",
    "# Number of categories\n",
    "num_categories = len(categories)\n",
    "\n",
    "# Create an array of indices for the categories\n",
    "x = np.arange(num_categories)\n",
    "\n",
    "# Width of each bar\n",
    "bar_width = 0.2\n",
    "\n",
    "# Create the bar plots for baseline and proposed models\n",
    "plt.figure(figsize=(6, 4))\n",
    "plt.bar(x - bar_width/2, baseline_data, bar_width, label='OmniTab', alpha=0.7)\n",
    "plt.bar(x + bar_width/2, proposed_data, bar_width, label='Our Method', alpha=0.7)\n",
    "\n",
    "# Set the x-axis labels\n",
    "plt.xlabel('Number of cells in table')\n",
    "plt.xticks(x, categories)\n",
    "\n",
    "# Set the y-axis label and title\n",
    "plt.ylabel('Denotation accuracy')\n",
    "# plt.title('Performance Comparison Across Perturbation Types')\n",
    "\n",
    "# Add a legend\n",
    "plt.legend()\n",
    "\n",
    "# Show the bar plot\n",
    "plt.tight_layout()\n",
    "\n",
    "plt.savefig(\"wikitq_acc_size.png\")\n",
    "\n",
    "plt.show()\n"
   ]
  },
  {
   "cell_type": "markdown",
   "metadata": {},
   "source": [
    "# FeTaQA"
   ]
  },
  {
   "cell_type": "code",
   "execution_count": null,
   "metadata": {},
   "outputs": [],
   "source": [
    "from datasets import load_dataset\n",
    "from data import FetaQADataset\n",
    "import json\n",
    "from utils import process_config"
   ]
  },
  {
   "cell_type": "code",
   "execution_count": null,
   "metadata": {},
   "outputs": [],
   "source": [
    "with open(\"configs/feta_qa/tapex.json\", \"rb\") as f:\n",
    "    config = json.load(f)\n",
    "config = process_config(config)"
   ]
  },
  {
   "cell_type": "code",
   "execution_count": null,
   "metadata": {},
   "outputs": [],
   "source": [
    "dataset = load_dataset(config.data.data_path)"
   ]
  },
  {
   "cell_type": "code",
   "execution_count": null,
   "metadata": {},
   "outputs": [],
   "source": [
    "test_dataset = FetaQADataset(dataset = dataset, config = config, data_type = \"test\")"
   ]
  },
  {
   "cell_type": "code",
   "execution_count": null,
   "metadata": {},
   "outputs": [],
   "source": [
    "num_rows_list = [len(t) for t in test_dataset.table]\n",
    "num_columns_list = [len(t.columns) for t in test_dataset.table]"
   ]
  },
  {
   "cell_type": "code",
   "execution_count": null,
   "metadata": {},
   "outputs": [],
   "source": [
    "num_cells_list = [num_rows_list[i] * num_columns_list[i] for i in range(len(num_columns_list))]"
   ]
  },
  {
   "cell_type": "code",
   "execution_count": null,
   "metadata": {},
   "outputs": [],
   "source": [
    "count_dict = {40: 0, 80: 0, 120: 0, 160: 0, 200: 0, 240: 0}"
   ]
  },
  {
   "cell_type": "code",
   "execution_count": null,
   "metadata": {},
   "outputs": [],
   "source": [
    "for x in num_cells_list:\n",
    "    if x <= 40:\n",
    "        count_dict[40] += 1\n",
    "    elif x > 40 and x <= 80:\n",
    "        count_dict[80] += 1\n",
    "    elif x > 80 and x <= 120:\n",
    "        count_dict[120] += 1\n",
    "    elif x > 120 and x <= 160:\n",
    "        count_dict[160] += 1\n",
    "    elif x > 160 and x < 200:\n",
    "        count_dict[200] += 1\n",
    "    else:\n",
    "        count_dict[240] += 1"
   ]
  },
  {
   "cell_type": "code",
   "execution_count": null,
   "metadata": {},
   "outputs": [],
   "source": [
    "count_dict"
   ]
  },
  {
   "cell_type": "code",
   "execution_count": null,
   "metadata": {},
   "outputs": [],
   "source": []
  },
  {
   "cell_type": "markdown",
   "metadata": {},
   "source": [
    "# WikiSQL"
   ]
  },
  {
   "cell_type": "code",
   "execution_count": null,
   "metadata": {},
   "outputs": [],
   "source": [
    "from datasets import load_dataset\n",
    "from data import WikiSQLDataset\n",
    "import json\n",
    "from utils import process_config"
   ]
  },
  {
   "cell_type": "code",
   "execution_count": null,
   "metadata": {},
   "outputs": [],
   "source": [
    "with open(\"configs/wiki_sql/tapex.json\", \"rb\") as f:\n",
    "    config = json.load(f)\n",
    "config = process_config(config)"
   ]
  },
  {
   "cell_type": "code",
   "execution_count": null,
   "metadata": {},
   "outputs": [],
   "source": [
    "dataset = load_dataset(config.data.data_path)"
   ]
  },
  {
   "cell_type": "code",
   "execution_count": null,
   "metadata": {},
   "outputs": [],
   "source": [
    "test_dataset = WikiSQLDataset(dataset, config, \"test\")"
   ]
  },
  {
   "cell_type": "code",
   "execution_count": null,
   "metadata": {},
   "outputs": [],
   "source": [
    "num_rows_list = [len(t) for t in test_dataset.table]\n",
    "num_columns_list = [len(t.columns) for t in test_dataset.table]"
   ]
  },
  {
   "cell_type": "code",
   "execution_count": null,
   "metadata": {},
   "outputs": [],
   "source": [
    "num_cells_list = [num_rows_list[i] * num_columns_list[i] for i in range(len(num_columns_list))]"
   ]
  },
  {
   "cell_type": "code",
   "execution_count": null,
   "metadata": {},
   "outputs": [],
   "source": [
    "count_dict = {100: 0, 200: 0, 300: 0, 400: 0, 500: 0, 600: 0}"
   ]
  },
  {
   "cell_type": "code",
   "execution_count": null,
   "metadata": {},
   "outputs": [],
   "source": [
    "for x in num_cells_list:\n",
    "    if x <= 100:\n",
    "        count_dict[100] += 1\n",
    "    elif x > 100 and x <= 200:\n",
    "        count_dict[200] += 1\n",
    "    elif x > 200 and x <= 300:\n",
    "        count_dict[300] += 1\n",
    "    elif x > 300 and x <= 400:\n",
    "        count_dict[400] += 1\n",
    "    elif x > 400 and x < 500:\n",
    "        count_dict[500] += 1\n",
    "    else:\n",
    "        count_dict[600] += 1"
   ]
  },
  {
   "cell_type": "code",
   "execution_count": null,
   "metadata": {},
   "outputs": [],
   "source": [
    "count_dict"
   ]
  },
  {
   "cell_type": "code",
   "execution_count": null,
   "metadata": {},
   "outputs": [],
   "source": [
    "from datasets import load_dataset\n",
    "from utils import process_config\n",
    "import json\n",
    "from data import WikiSQLDataset"
   ]
  },
  {
   "cell_type": "code",
   "execution_count": null,
   "metadata": {},
   "outputs": [],
   "source": [
    "with open(\"configs/wiki_sql/tapex.json\", \"rb\") as f:\n",
    "    config = json.load(f)\n",
    "config = process_config(config)"
   ]
  },
  {
   "cell_type": "code",
   "execution_count": null,
   "metadata": {},
   "outputs": [],
   "source": [
    "dataset = load_dataset(config.data.data_path)"
   ]
  },
  {
   "cell_type": "code",
   "execution_count": null,
   "metadata": {},
   "outputs": [],
   "source": [
    "test_dataset = WikiSQLDataset(dataset=dataset, config = config, data_type=\"test\")"
   ]
  },
  {
   "cell_type": "code",
   "execution_count": null,
   "metadata": {},
   "outputs": [],
   "source": [
    "import numpy as np\n"
   ]
  },
  {
   "cell_type": "code",
   "execution_count": null,
   "metadata": {},
   "outputs": [],
   "source": [
    "retrieval = 0\n",
    "non_retrieval = 0"
   ]
  },
  {
   "cell_type": "code",
   "execution_count": null,
   "metadata": {},
   "outputs": [],
   "source": [
    "for i in range(len(test_dataset)):\n",
    "\n",
    "    for col in test_dataset.table[i].columns.tolist():\n",
    "        # print(np.array(test_dataset.table[i][col].str.contains(test_dataset.text_output[i], na=True)))\n",
    "\n",
    "        if np.count_nonzero(np.array(test_dataset.table[i][col].str.contains(test_dataset.text_output[i], na=True))) > 0:\n",
    "            retrieval += 1\n",
    "            break\n",
    "        else:\n",
    "            non_retrieval += 1"
   ]
  },
  {
   "cell_type": "code",
   "execution_count": null,
   "metadata": {},
   "outputs": [],
   "source": []
  },
  {
   "cell_type": "code",
   "execution_count": null,
   "metadata": {},
   "outputs": [],
   "source": []
  }
 ],
 "metadata": {
  "kernelspec": {
   "display_name": "designlab",
   "language": "python",
   "name": "python3"
  },
  "language_info": {
   "codemirror_mode": {
    "name": "ipython",
    "version": 3
   },
   "file_extension": ".py",
   "mimetype": "text/x-python",
   "name": "python",
   "nbconvert_exporter": "python",
   "pygments_lexer": "ipython3",
   "version": "3.9.17"
  },
  "orig_nbformat": 4
 },
 "nbformat": 4,
 "nbformat_minor": 2
}
