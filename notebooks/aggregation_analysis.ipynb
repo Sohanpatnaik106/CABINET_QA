{
 "cells": [
  {
   "cell_type": "code",
   "execution_count": 1,
   "metadata": {},
   "outputs": [],
   "source": [
    "import os\n",
    "os.chdir(\"../\")"
   ]
  },
  {
   "cell_type": "code",
   "execution_count": 2,
   "metadata": {},
   "outputs": [],
   "source": [
    "import torch\n",
    "import torch.nn as nn\n",
    "from transformers import GPT2LMHeadModel\n",
    "from transformers import BartForConditionalGeneration"
   ]
  },
  {
   "cell_type": "code",
   "execution_count": null,
   "metadata": {},
   "outputs": [],
   "source": [
    "model = BartForConditionalGeneration.from_pretrained(\"microsoft/tapex-large-finetuned-wtq\")"
   ]
  },
  {
   "cell_type": "code",
   "execution_count": null,
   "metadata": {},
   "outputs": [],
   "source": [
    "from datasets import load_dataset"
   ]
  },
  {
   "cell_type": "code",
   "execution_count": null,
   "metadata": {},
   "outputs": [],
   "source": [
    "dataset = load_dataset(\"wikitablequestions\")"
   ]
  },
  {
   "cell_type": "code",
   "execution_count": null,
   "metadata": {},
   "outputs": [],
   "source": [
    "test_dataset = dataset[\"test\"]"
   ]
  },
  {
   "cell_type": "code",
   "execution_count": null,
   "metadata": {},
   "outputs": [],
   "source": [
    "from transformers import AutoTokenizer"
   ]
  },
  {
   "cell_type": "code",
   "execution_count": null,
   "metadata": {},
   "outputs": [],
   "source": [
    "tokenizer = AutoTokenizer.from_pretrained(\"microsoft/tapex-large-finetuned-wtq\")"
   ]
  },
  {
   "cell_type": "code",
   "execution_count": null,
   "metadata": {},
   "outputs": [],
   "source": [
    "test_dataset"
   ]
  },
  {
   "cell_type": "code",
   "execution_count": null,
   "metadata": {},
   "outputs": [],
   "source": [
    "import pandas as pd"
   ]
  },
  {
   "cell_type": "code",
   "execution_count": null,
   "metadata": {},
   "outputs": [],
   "source": [
    "def aggregation_analysis(index):\n",
    "\n",
    "    question = test_dataset[index][\"question\"]\n",
    "    # question = \"How many people in total were murdered in 1940/41 and 1941/42?\"\n",
    "    # question = \"what was the total number of people who attented on november 17 and november 23\"\n",
    "    table = test_dataset[index][\"table\"]\n",
    "\n",
    "    table_column_names = test_dataset[index][\"table\"][\"header\"]\n",
    "    table_content_values = test_dataset[index][\"table\"][\"rows\"]\n",
    "\n",
    "    answer = test_dataset[index][\"answers\"]\n",
    "    answer_list = answers = [str(a).lower() for a in test_dataset[index][\"answers\"]]\n",
    "    answer = f\" {tokenizer.special_tokens_map['sep_token']} \".join(answer)\n",
    "    # answer = \"216,000\"\n",
    "    # answer = \"1015\"\n",
    "\n",
    "    table = pd.DataFrame.from_dict({str(col).lower(): [str(table_content_values[j][i]).lower() for j in range(len(table_content_values))] for i, col in enumerate(table_column_names)})\n",
    "    print(question)\n",
    "    display(table)\n",
    "    print(answer)\n",
    "\n",
    "    return\n",
    "\n",
    "\n",
    "    input = tokenizer(table, question, add_special_tokens = True, padding = True, truncation = True, max_length = 960, return_tensors = \"pt\",\n",
    "                        return_token_type_ids = True, return_attention_mask = True)\n",
    "    \n",
    "    answer_pred_ids = model.generate(inputs = input[\"input_ids\"], attention_mask = input[\"attention_mask\"], max_new_tokens = 64, num_beams = 3, early_stopping = True)\n",
    "    answer_pred = tokenizer.batch_decode(answer_pred_ids, skip_special_tokens = True)\n",
    "\n",
    "    display(table)\n",
    "    table = table[[\"day\", \"attendance\"]].iloc[[1, 2]]\n",
    "    display(table)\n",
    "\n",
    "    input = tokenizer(table, question, add_special_tokens = True, padding = True, truncation = True, max_length = 960, return_tensors = \"pt\",\n",
    "                        return_token_type_ids = True, return_attention_mask = True)\n",
    "    \n",
    "    answer_pred_ids_decomposed = model.generate(inputs = input[\"input_ids\"], attention_mask = input[\"attention_mask\"], max_new_tokens = 64, num_beams = 3, early_stopping = True)\n",
    "    answer_pred_decomposed = tokenizer.batch_decode(answer_pred_ids, skip_special_tokens = True)\n",
    "\n",
    "    table[\"attendance\"][1] = \"3 hundreds 6 tens 3 units\"\n",
    "    table[\"attendance\"][2] = \"6 hundreds 5 tens 2 units\"\n",
    "\n",
    "    input = tokenizer(table, question, add_special_tokens = True, padding = True, truncation = True, max_length = 960, return_tensors = \"pt\",\n",
    "                        return_token_type_ids = True, return_attention_mask = True)\n",
    "    \n",
    "    # print(tokenizer.batch_decode(input[\"input_ids\"], skip_special_tokens = True))\n",
    "    answer_pred_ids_verbalised = model.generate(inputs = input[\"input_ids\"], attention_mask = input[\"attention_mask\"], max_new_tokens = 64, num_beams = 3, early_stopping = True)\n",
    "    answer_pred_verbalised = tokenizer.batch_decode(answer_pred_ids, skip_special_tokens = True)\n",
    "\n",
    "    print(question)\n",
    "    display(table)\n",
    "    print(answer)\n",
    "    print(answer_pred)\n",
    "    print(answer_pred_decomposed)\n",
    "    print(answer_pred_verbalised)"
   ]
  },
  {
   "cell_type": "code",
   "execution_count": null,
   "metadata": {},
   "outputs": [],
   "source": [
    "aggregation_analysis(1)"
   ]
  },
  {
   "cell_type": "code",
   "execution_count": null,
   "metadata": {},
   "outputs": [],
   "source": [
    "aggregation_analysis(7)"
   ]
  },
  {
   "cell_type": "code",
   "execution_count": null,
   "metadata": {},
   "outputs": [],
   "source": [
    "aggregation_analysis(13)"
   ]
  },
  {
   "cell_type": "code",
   "execution_count": null,
   "metadata": {},
   "outputs": [],
   "source": []
  }
 ],
 "metadata": {
  "kernelspec": {
   "display_name": "tabllm",
   "language": "python",
   "name": "python3"
  },
  "language_info": {
   "codemirror_mode": {
    "name": "ipython",
    "version": 3
   },
   "file_extension": ".py",
   "mimetype": "text/x-python",
   "name": "python",
   "nbconvert_exporter": "python",
   "pygments_lexer": "ipython3",
   "version": "3.9.17"
  },
  "orig_nbformat": 4
 },
 "nbformat": 4,
 "nbformat_minor": 2
}
